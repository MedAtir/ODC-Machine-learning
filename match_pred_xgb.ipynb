{
 "cells": [
  {
   "cell_type": "code",
   "execution_count": 36,
   "metadata": {},
   "outputs": [],
   "source": [
    "import numpy as np\n",
    "import pandas as pd\n",
    "\n",
    "import itertools\n",
    "import xgboost"
   ]
  },
  {
   "cell_type": "code",
   "execution_count": 37,
   "metadata": {},
   "outputs": [],
   "source": [
    "matches = pd.read_csv('data/matches_enhanced.csv', sep=',', decimal='.')"
   ]
  },
  {
   "cell_type": "code",
   "execution_count": 55,
   "metadata": {},
   "outputs": [],
   "source": [
    "#matches.sort_values(by='home_team').home_team.unique()"
   ]
  },
  {
   "cell_type": "code",
   "execution_count": 38,
   "metadata": {},
   "outputs": [],
   "source": [
    "ranking = pd.read_csv('data/ranking/fifa_ranking-2021-05-27.csv')"
   ]
  },
  {
   "cell_type": "code",
   "execution_count": 39,
   "metadata": {},
   "outputs": [],
   "source": [
    "h_matches = matches.copy(deep=True)\n",
    "a_matches = matches.copy(deep=True)"
   ]
  },
  {
   "cell_type": "code",
   "execution_count": 40,
   "metadata": {},
   "outputs": [],
   "source": [
    "h_matches['outcome'] = h_matches.apply(lambda x: 'win' if x.home_score>x.away_score else 'lose' if x.home_score<x.away_score else 'draw', axis=1)"
   ]
  },
  {
   "cell_type": "code",
   "execution_count": 41,
   "metadata": {},
   "outputs": [],
   "source": [
    "a_matches['home_team'] = matches['away_team'] \n",
    "a_matches['away_team'] = matches['home_team'] \n",
    "a_matches['home_score'] = matches['away_score'] \n",
    "a_matches['away_score'] = matches['home_score'] \n",
    "a_matches['home_rank'] = matches['away_rank'] \n",
    "a_matches['away_rank'] = matches['home_rank'] "
   ]
  },
  {
   "cell_type": "code",
   "execution_count": 42,
   "metadata": {},
   "outputs": [],
   "source": [
    "a_matches['outcome'] = a_matches.apply(lambda x: 'win' if x.home_score>x.away_score else 'lose' if x.home_score<x.away_score else 'draw', axis=1)"
   ]
  },
  {
   "cell_type": "code",
   "execution_count": 9,
   "metadata": {},
   "outputs": [
    {
     "data": {
      "text/html": [
       "<div>\n",
       "<style scoped>\n",
       "    .dataframe tbody tr th:only-of-type {\n",
       "        vertical-align: middle;\n",
       "    }\n",
       "\n",
       "    .dataframe tbody tr th {\n",
       "        vertical-align: top;\n",
       "    }\n",
       "\n",
       "    .dataframe thead th {\n",
       "        text-align: right;\n",
       "    }\n",
       "</style>\n",
       "<table border=\"1\" class=\"dataframe\">\n",
       "  <thead>\n",
       "    <tr style=\"text-align: right;\">\n",
       "      <th></th>\n",
       "      <th>Unnamed: 0</th>\n",
       "      <th>date</th>\n",
       "      <th>home_team</th>\n",
       "      <th>away_team</th>\n",
       "      <th>home_score</th>\n",
       "      <th>away_score</th>\n",
       "      <th>tournament</th>\n",
       "      <th>city</th>\n",
       "      <th>country</th>\n",
       "      <th>neutral</th>\n",
       "      <th>home_rank</th>\n",
       "      <th>away_rank</th>\n",
       "      <th>outcome</th>\n",
       "    </tr>\n",
       "  </thead>\n",
       "  <tbody>\n",
       "    <tr>\n",
       "      <th>0</th>\n",
       "      <td>17505</td>\n",
       "      <td>1993-01-02</td>\n",
       "      <td>Gabon</td>\n",
       "      <td>Burkina Faso</td>\n",
       "      <td>1</td>\n",
       "      <td>1</td>\n",
       "      <td>Friendly</td>\n",
       "      <td>Libreville</td>\n",
       "      <td>Gabon</td>\n",
       "      <td>False</td>\n",
       "      <td>55</td>\n",
       "      <td>97</td>\n",
       "      <td>draw</td>\n",
       "    </tr>\n",
       "    <tr>\n",
       "      <th>1</th>\n",
       "      <td>17506</td>\n",
       "      <td>1993-01-02</td>\n",
       "      <td>Kuwait</td>\n",
       "      <td>Lebanon</td>\n",
       "      <td>2</td>\n",
       "      <td>0</td>\n",
       "      <td>Friendly</td>\n",
       "      <td>Kuwait City</td>\n",
       "      <td>Kuwait</td>\n",
       "      <td>False</td>\n",
       "      <td>71</td>\n",
       "      <td>161</td>\n",
       "      <td>win</td>\n",
       "    </tr>\n",
       "    <tr>\n",
       "      <th>2</th>\n",
       "      <td>17507</td>\n",
       "      <td>1993-01-03</td>\n",
       "      <td>Burkina Faso</td>\n",
       "      <td>Mali</td>\n",
       "      <td>1</td>\n",
       "      <td>0</td>\n",
       "      <td>Friendly</td>\n",
       "      <td>Libreville</td>\n",
       "      <td>Gabon</td>\n",
       "      <td>True</td>\n",
       "      <td>97</td>\n",
       "      <td>69</td>\n",
       "      <td>win</td>\n",
       "    </tr>\n",
       "    <tr>\n",
       "      <th>3</th>\n",
       "      <td>17508</td>\n",
       "      <td>1993-01-03</td>\n",
       "      <td>Gabon</td>\n",
       "      <td>Ghana</td>\n",
       "      <td>2</td>\n",
       "      <td>3</td>\n",
       "      <td>Friendly</td>\n",
       "      <td>Libreville</td>\n",
       "      <td>Gabon</td>\n",
       "      <td>False</td>\n",
       "      <td>55</td>\n",
       "      <td>39</td>\n",
       "      <td>lose</td>\n",
       "    </tr>\n",
       "    <tr>\n",
       "      <th>4</th>\n",
       "      <td>17509</td>\n",
       "      <td>1993-01-08</td>\n",
       "      <td>Uganda</td>\n",
       "      <td>Tanzania</td>\n",
       "      <td>3</td>\n",
       "      <td>1</td>\n",
       "      <td>Friendly</td>\n",
       "      <td>Kampala</td>\n",
       "      <td>Uganda</td>\n",
       "      <td>False</td>\n",
       "      <td>92</td>\n",
       "      <td>80</td>\n",
       "      <td>win</td>\n",
       "    </tr>\n",
       "  </tbody>\n",
       "</table>\n",
       "</div>"
      ],
      "text/plain": [
       "   Unnamed: 0        date     home_team     away_team  home_score  away_score  \\\n",
       "0       17505  1993-01-02         Gabon  Burkina Faso           1           1   \n",
       "1       17506  1993-01-02        Kuwait       Lebanon           2           0   \n",
       "2       17507  1993-01-03  Burkina Faso          Mali           1           0   \n",
       "3       17508  1993-01-03         Gabon         Ghana           2           3   \n",
       "4       17509  1993-01-08        Uganda      Tanzania           3           1   \n",
       "\n",
       "  tournament         city country  neutral  home_rank  away_rank outcome  \n",
       "0   Friendly   Libreville   Gabon    False         55         97    draw  \n",
       "1   Friendly  Kuwait City  Kuwait    False         71        161     win  \n",
       "2   Friendly   Libreville   Gabon     True         97         69     win  \n",
       "3   Friendly   Libreville   Gabon    False         55         39    lose  \n",
       "4   Friendly      Kampala  Uganda    False         92         80     win  "
      ]
     },
     "execution_count": 9,
     "metadata": {},
     "output_type": "execute_result"
    }
   ],
   "source": [
    "h_matches.head()"
   ]
  },
  {
   "cell_type": "code",
   "execution_count": 10,
   "metadata": {},
   "outputs": [
    {
     "data": {
      "text/html": [
       "<div>\n",
       "<style scoped>\n",
       "    .dataframe tbody tr th:only-of-type {\n",
       "        vertical-align: middle;\n",
       "    }\n",
       "\n",
       "    .dataframe tbody tr th {\n",
       "        vertical-align: top;\n",
       "    }\n",
       "\n",
       "    .dataframe thead th {\n",
       "        text-align: right;\n",
       "    }\n",
       "</style>\n",
       "<table border=\"1\" class=\"dataframe\">\n",
       "  <thead>\n",
       "    <tr style=\"text-align: right;\">\n",
       "      <th></th>\n",
       "      <th>Unnamed: 0</th>\n",
       "      <th>date</th>\n",
       "      <th>home_team</th>\n",
       "      <th>away_team</th>\n",
       "      <th>home_score</th>\n",
       "      <th>away_score</th>\n",
       "      <th>tournament</th>\n",
       "      <th>city</th>\n",
       "      <th>country</th>\n",
       "      <th>neutral</th>\n",
       "      <th>home_rank</th>\n",
       "      <th>away_rank</th>\n",
       "      <th>outcome</th>\n",
       "    </tr>\n",
       "  </thead>\n",
       "  <tbody>\n",
       "    <tr>\n",
       "      <th>0</th>\n",
       "      <td>17505</td>\n",
       "      <td>1993-01-02</td>\n",
       "      <td>Burkina Faso</td>\n",
       "      <td>Gabon</td>\n",
       "      <td>1</td>\n",
       "      <td>1</td>\n",
       "      <td>Friendly</td>\n",
       "      <td>Libreville</td>\n",
       "      <td>Gabon</td>\n",
       "      <td>False</td>\n",
       "      <td>97</td>\n",
       "      <td>55</td>\n",
       "      <td>draw</td>\n",
       "    </tr>\n",
       "    <tr>\n",
       "      <th>1</th>\n",
       "      <td>17506</td>\n",
       "      <td>1993-01-02</td>\n",
       "      <td>Lebanon</td>\n",
       "      <td>Kuwait</td>\n",
       "      <td>0</td>\n",
       "      <td>2</td>\n",
       "      <td>Friendly</td>\n",
       "      <td>Kuwait City</td>\n",
       "      <td>Kuwait</td>\n",
       "      <td>False</td>\n",
       "      <td>161</td>\n",
       "      <td>71</td>\n",
       "      <td>lose</td>\n",
       "    </tr>\n",
       "    <tr>\n",
       "      <th>2</th>\n",
       "      <td>17507</td>\n",
       "      <td>1993-01-03</td>\n",
       "      <td>Mali</td>\n",
       "      <td>Burkina Faso</td>\n",
       "      <td>0</td>\n",
       "      <td>1</td>\n",
       "      <td>Friendly</td>\n",
       "      <td>Libreville</td>\n",
       "      <td>Gabon</td>\n",
       "      <td>True</td>\n",
       "      <td>69</td>\n",
       "      <td>97</td>\n",
       "      <td>lose</td>\n",
       "    </tr>\n",
       "    <tr>\n",
       "      <th>3</th>\n",
       "      <td>17508</td>\n",
       "      <td>1993-01-03</td>\n",
       "      <td>Ghana</td>\n",
       "      <td>Gabon</td>\n",
       "      <td>3</td>\n",
       "      <td>2</td>\n",
       "      <td>Friendly</td>\n",
       "      <td>Libreville</td>\n",
       "      <td>Gabon</td>\n",
       "      <td>False</td>\n",
       "      <td>39</td>\n",
       "      <td>55</td>\n",
       "      <td>win</td>\n",
       "    </tr>\n",
       "    <tr>\n",
       "      <th>4</th>\n",
       "      <td>17509</td>\n",
       "      <td>1993-01-08</td>\n",
       "      <td>Tanzania</td>\n",
       "      <td>Uganda</td>\n",
       "      <td>1</td>\n",
       "      <td>3</td>\n",
       "      <td>Friendly</td>\n",
       "      <td>Kampala</td>\n",
       "      <td>Uganda</td>\n",
       "      <td>False</td>\n",
       "      <td>80</td>\n",
       "      <td>92</td>\n",
       "      <td>lose</td>\n",
       "    </tr>\n",
       "  </tbody>\n",
       "</table>\n",
       "</div>"
      ],
      "text/plain": [
       "   Unnamed: 0        date     home_team     away_team  home_score  away_score  \\\n",
       "0       17505  1993-01-02  Burkina Faso         Gabon           1           1   \n",
       "1       17506  1993-01-02       Lebanon        Kuwait           0           2   \n",
       "2       17507  1993-01-03          Mali  Burkina Faso           0           1   \n",
       "3       17508  1993-01-03         Ghana         Gabon           3           2   \n",
       "4       17509  1993-01-08      Tanzania        Uganda           1           3   \n",
       "\n",
       "  tournament         city country  neutral  home_rank  away_rank outcome  \n",
       "0   Friendly   Libreville   Gabon    False         97         55    draw  \n",
       "1   Friendly  Kuwait City  Kuwait    False        161         71    lose  \n",
       "2   Friendly   Libreville   Gabon     True         69         97    lose  \n",
       "3   Friendly   Libreville   Gabon    False         39         55     win  \n",
       "4   Friendly      Kampala  Uganda    False         80         92    lose  "
      ]
     },
     "execution_count": 10,
     "metadata": {},
     "output_type": "execute_result"
    }
   ],
   "source": [
    "a_matches.head()"
   ]
  },
  {
   "cell_type": "code",
   "execution_count": 43,
   "metadata": {},
   "outputs": [],
   "source": [
    "matches_all = pd.concat([h_matches, a_matches])"
   ]
  },
  {
   "cell_type": "code",
   "execution_count": 44,
   "metadata": {},
   "outputs": [],
   "source": [
    "predictors = ['home_team', 'away_team', 'home_rank', 'away_rank']\n",
    "X = matches_all[predictors]\n",
    "y = matches_all['outcome']\n",
    "\n",
    "X = pd.get_dummies(X)"
   ]
  },
  {
   "cell_type": "code",
   "execution_count": 45,
   "metadata": {},
   "outputs": [],
   "source": [
    "from sklearn.model_selection import train_test_split\n",
    "\n",
    "X_train, X_test, y_train, y_test = train_test_split(X, y, test_size=.2, random_state=17)"
   ]
  },
  {
   "cell_type": "code",
   "execution_count": null,
   "metadata": {},
   "outputs": [],
   "source": [
    "from sklearn.model_selection import GridSearchCV\n",
    "from xgboost import XGBClassifier\n",
    "\n",
    "clf = XGBClassifier()\n",
    "\n",
    "params = {\n",
    "    'n_estimators' : [100],\n",
    "    'max_depth' : [2],\n",
    "    'booster' : ['gbtree'],\n",
    "    'subsample' : [.4],\n",
    "    'colsample_bytree' : [.8]\n",
    "}\n",
    "\n",
    "model = GridSearchCV(clf, param_grid=params, scoring='roc_auc_ovr', cv=5)\n",
    "\n",
    "model.fit(X_train, y_train)\n",
    "print(model.best_params_)"
   ]
  },
  {
   "cell_type": "code",
   "execution_count": 18,
   "metadata": {},
   "outputs": [
    {
     "name": "stdout",
     "output_type": "stream",
     "text": [
      "[09:52:54] WARNING: C:/Users/Administrator/workspace/xgboost-win64_release_1.5.1/src/learner.cc:1115: Starting in XGBoost 1.3.0, the default evaluation metric used with the objective 'multi:softprob' was changed from 'merror' to 'mlogloss'. Explicitly set eval_metric if you'd like to restore the old behavior.\n"
     ]
    },
    {
     "data": {
      "text/plain": [
       "XGBClassifier(base_score=0.5, booster='gbtree', colsample_bylevel=1,\n",
       "              colsample_bynode=1, colsample_bytree=0.8,\n",
       "              enable_categorical=False, gamma=0, gpu_id=-1,\n",
       "              importance_type=None, interaction_constraints='',\n",
       "              learning_rate=0.300000012, max_delta_step=0, max_depth=2,\n",
       "              min_child_weight=1, missing=nan, monotone_constraints='()',\n",
       "              n_estimators=100, n_jobs=8, num_parallel_tree=1,\n",
       "              objective='multi:softprob', predictor='auto', random_state=0,\n",
       "              reg_alpha=0, reg_lambda=1, scale_pos_weight=None, subsample=0.4,\n",
       "              tree_method='exact', validate_parameters=1, verbosity=None)"
      ]
     },
     "execution_count": 18,
     "metadata": {},
     "output_type": "execute_result"
    }
   ],
   "source": [
    "from xgboost import XGBClassifier\n",
    "\n",
    "# model\n",
    "model = XGBClassifier(n_estimators=100, \n",
    "                      max_depth=2, \n",
    "                      booster='gbtree', \n",
    "                      subsample=.4, \n",
    "                      colsample_bytree=.8)\n",
    "model.fit(X_train, y_train)\n"
   ]
  },
  {
   "cell_type": "code",
   "execution_count": null,
   "metadata": {},
   "outputs": [],
   "source": [
    "import pickle\n",
    "\n",
    "pickle_out = open('model_xgb_ODC_pickle__20220322.pkl', 'wb')\n",
    "\n",
    "pickle.dumps(model, pickle_out)\n",
    "pickle_out.close()"
   ]
  },
  {
   "cell_type": "code",
   "execution_count": 46,
   "metadata": {},
   "outputs": [],
   "source": [
    "#meta_model"
   ]
  },
  {
   "cell_type": "code",
   "execution_count": null,
   "metadata": {},
   "outputs": [],
   "source": []
  },
  {
   "cell_type": "code",
   "execution_count": 164,
   "metadata": {},
   "outputs": [],
   "source": [
    "cols = X.columns\n",
    "\n",
    "a_country = 'Morocco'\n",
    "h_country = 'Nigeria'\n",
    "    \n",
    "df = pd.DataFrame(np.zeros((1,len(cols)), dtype=int), columns=cols)"
   ]
  },
  {
   "cell_type": "code",
   "execution_count": 165,
   "metadata": {},
   "outputs": [],
   "source": [
    "try:\n",
    "    df.home_rank.iloc[0] = ranking[((ranking.rank_date == '2021-05-27') & (ranking.country_full == h_country))]['rank'].values[0]\n",
    "except:\n",
    "    df.home_rank.iloc[0] = 155\n",
    "\n",
    "try:\n",
    "    df.away_rank.iloc[0] = ranking[((ranking.rank_date == '2021-05-27') & (ranking.country_full == a_country))]['rank'].values[0]\n",
    "except:\n",
    "    df.away_rank.iloc[0] = 155"
   ]
  },
  {
   "cell_type": "code",
   "execution_count": 166,
   "metadata": {},
   "outputs": [],
   "source": [
    "df['home_team_'+h_country].iloc[0] = 1\n",
    "df['away_team_'+a_country].iloc[0] = 1"
   ]
  },
  {
   "cell_type": "code",
   "execution_count": 167,
   "metadata": {},
   "outputs": [
    {
     "data": {
      "text/plain": [
       "'win'"
      ]
     },
     "execution_count": 167,
     "metadata": {},
     "output_type": "execute_result"
    }
   ],
   "source": [
    "model.predict(df.iloc[0].to_numpy().reshape(1,130))[0]"
   ]
  },
  {
   "cell_type": "code",
   "execution_count": 168,
   "metadata": {},
   "outputs": [
    {
     "data": {
      "text/plain": [
       "array([0.20532097, 0.22901006, 0.565669  ], dtype=float32)"
      ]
     },
     "execution_count": 168,
     "metadata": {},
     "output_type": "execute_result"
    }
   ],
   "source": [
    "model.predict_proba(df.iloc[0].to_numpy().reshape(1,130))[0]"
   ]
  },
  {
   "cell_type": "code",
   "execution_count": 169,
   "metadata": {},
   "outputs": [
    {
     "data": {
      "text/plain": [
       "array(['lose', 'lose', 'win', ..., 'win', 'win', 'lose'], dtype=object)"
      ]
     },
     "execution_count": 169,
     "metadata": {},
     "output_type": "execute_result"
    }
   ],
   "source": [
    "model.predict(X.values)"
   ]
  },
  {
   "cell_type": "code",
   "execution_count": 170,
   "metadata": {},
   "outputs": [
    {
     "data": {
      "text/plain": [
       "array([[0.3125035 , 0.35086736, 0.33662915],\n",
       "       [0.24062343, 0.5775389 , 0.18183766],\n",
       "       [0.3185098 , 0.26596972, 0.41552052],\n",
       "       ...,\n",
       "       [0.20247072, 0.13430706, 0.66322225],\n",
       "       [0.3124157 , 0.3312507 , 0.3563336 ],\n",
       "       [0.2137174 , 0.4400482 , 0.3462344 ]], dtype=float32)"
      ]
     },
     "execution_count": 170,
     "metadata": {},
     "output_type": "execute_result"
    }
   ],
   "source": [
    "model.predict_proba(X.values)"
   ]
  },
  {
   "cell_type": "code",
   "execution_count": 26,
   "metadata": {},
   "outputs": [],
   "source": [
    "from sklearn.metrics import multilabel_confusion_matrix\n",
    "\n",
    "cm = multilabel_confusion_matrix(y.values, model.predict(onehot_df.values))"
   ]
  },
  {
   "cell_type": "code",
   "execution_count": 31,
   "metadata": {},
   "outputs": [
    {
     "name": "stderr",
     "output_type": "stream",
     "text": [
      "C:\\Users\\DevPC\\AppData\\Roaming\\Python\\Python37\\site-packages\\sklearn\\utils\\deprecation.py:87: FutureWarning: Function plot_confusion_matrix is deprecated; Function `plot_confusion_matrix` is deprecated in 1.0 and will be removed in 1.2. Use one of the class methods: ConfusionMatrixDisplay.from_predictions or ConfusionMatrixDisplay.from_estimator.\n",
      "  warnings.warn(msg, category=FutureWarning)\n"
     ]
    },
    {
     "data": {
      "text/plain": [
       "<sklearn.metrics._plot.confusion_matrix.ConfusionMatrixDisplay at 0x295ef4eee10>"
      ]
     },
     "execution_count": 31,
     "metadata": {},
     "output_type": "execute_result"
    },
    {
     "data": {
      "image/png": "[encoded data removed]",
      "text/plain": [
       "<Figure size 432x288 with 2 Axes>"
      ]
     },
     "metadata": {
      "needs_background": "light"
     },
     "output_type": "display_data"
    }
   ],
   "source": [
    "import matplotlib.pyplot as plt\n",
    "from sklearn.metrics import plot_confusion_matrix\n",
    "\n",
    "plot_confusion_matrix(model, onehot_df.values, y.values)"
   ]
  },
  {
   "cell_type": "code",
   "execution_count": 112,
   "metadata": {},
   "outputs": [
    {
     "name": "stdout",
     "output_type": "stream",
     "text": [
      "auc : 72.72%\n"
     ]
    },
    {
     "data": {
      "image/png": "[encoded data removed]",
      "text/plain": [
       "<Figure size 432x288 with 2 Axes>"
      ]
     },
     "metadata": {
      "needs_background": "light"
     },
     "output_type": "display_data"
    }
   ],
   "source": [
    "ConfusionMatrixDisplay.from_estimator(model, X_train, y_train, normalize='true', cmap='Blues')\n",
    "print('auc : {0:.2%}'.format(roc_auc_score(y_train, model.predict_proba(X_train), multi_class='ovo')))\n",
    "plt.show()"
   ]
  },
  {
   "cell_type": "code",
   "execution_count": 111,
   "metadata": {},
   "outputs": [
    {
     "name": "stdout",
     "output_type": "stream",
     "text": [
      "auc : 67.47%\n"
     ]
    },
    {
     "data": {
      "image/png": "[encoded data removed]",
      "text/plain": [
       "<Figure size 432x288 with 2 Axes>"
      ]
     },
     "metadata": {
      "needs_background": "light"
     },
     "output_type": "display_data"
    }
   ],
   "source": [
    "ConfusionMatrixDisplay.from_estimator(model, X_test, y_test, normalize='true', cmap='Blues')\n",
    "print('auc : {0:.2%}'.format(roc_auc_score(y_test, model.predict_proba(X_test), multi_class='ovo')))\n",
    "plt.show()"
   ]
  },
  {
   "cell_type": "code",
   "execution_count": 127,
   "metadata": {},
   "outputs": [
    {
     "data": {
      "text/plain": [
       "<matplotlib.axes._subplots.AxesSubplot at 0x295f62f4400>"
      ]
     },
     "execution_count": 127,
     "metadata": {},
     "output_type": "execute_result"
    },
    {
     "data": {
      "image/png": "[encoded data removed]",
      "text/plain": [
       "<Figure size 432x288 with 1 Axes>"
      ]
     },
     "metadata": {
      "needs_background": "light"
     },
     "output_type": "display_data"
    }
   ],
   "source": [
    "import xgboost as xgb\n",
    "\n",
    "xgb.plot_importance(model, max_num_features=10, importance_type='gain')"
   ]
  },
  {
   "cell_type": "code",
   "execution_count": 47,
   "metadata": {},
   "outputs": [
    {
     "name": "stdout",
     "output_type": "stream",
     "text": [
      "[11:34:21] WARNING: C:/Users/Administrator/workspace/xgboost-win64_release_1.5.1/src/learner.cc:1115: Starting in XGBoost 1.3.0, the default evaluation metric used with the objective 'multi:softprob' was changed from 'merror' to 'mlogloss'. Explicitly set eval_metric if you'd like to restore the old behavior.\n"
     ]
    },
    {
     "data": {
      "text/plain": [
       "XGBClassifier(base_score=0.5, booster='gbtree', colsample_bylevel=1,\n",
       "              colsample_bynode=1, colsample_bytree=0.8,\n",
       "              enable_categorical=False, gamma=0, gpu_id=-1,\n",
       "              importance_type=None, interaction_constraints='',\n",
       "              learning_rate=0.300000012, max_delta_step=0, max_depth=2,\n",
       "              min_child_weight=1, missing=nan, monotone_constraints='()',\n",
       "              n_estimators=100, n_jobs=8, num_parallel_tree=1,\n",
       "              objective='multi:softprob', predictor='auto', random_state=0,\n",
       "              reg_alpha=0, reg_lambda=1, scale_pos_weight=None, subsample=0.4,\n",
       "              tree_method='exact', validate_parameters=1, verbosity=None)"
      ]
     },
     "execution_count": 47,
     "metadata": {},
     "output_type": "execute_result"
    }
   ],
   "source": [
    "from xgboost import XGBClassifier\n",
    "\n",
    "# model\n",
    "model = XGBClassifier(n_estimators=100, max_depth=2, booster='gbtree', subsample=.4, colsample_bytree=.8)\n",
    "model.fit(X.values, y.values)\n"
   ]
  },
  {
   "cell_type": "code",
   "execution_count": 49,
   "metadata": {},
   "outputs": [
    {
     "data": {
      "text/plain": [
       "RandomForestClassifier(max_depth=2, n_estimators=200)"
      ]
     },
     "execution_count": 49,
     "metadata": {},
     "output_type": "execute_result"
    }
   ],
   "source": [
    "from sklearn.ensemble import RandomForestClassifier\n",
    "\n",
    "clf = RandomForestClassifier(n_estimators=200, max_depth=2)\n",
    "\n",
    "clf.fit(X, y)"
   ]
  },
  {
   "cell_type": "code",
   "execution_count": 50,
   "metadata": {},
   "outputs": [
    {
     "data": {
      "text/plain": [
       "['model_rf__ODC_football_outcome_predictor_20220325__meta.model']"
      ]
     },
     "execution_count": 50,
     "metadata": {},
     "output_type": "execute_result"
    }
   ],
   "source": [
    "import joblib\n",
    "import datetime\n",
    "\n",
    "meta_model = {\n",
    "    'prject' : 'ODC Rabat Football Outcome Predictor',\n",
    "    'columns' : X.columns.to_list(),\n",
    "    'model' : clf,\n",
    "    'matches' : 'data/matches_enhanced.csv',\n",
    "    'ranking' : 'data/ranking/fifa_ranking-2021-05-27.csv'\n",
    "}\n",
    "\n",
    "joblib.dump(meta_model, 'model_rf__ODC_football_outcome_predictor_20220325__meta.model')"
   ]
  },
  {
   "cell_type": "code",
   "execution_count": null,
   "metadata": {},
   "outputs": [],
   "source": [
    "\n",
    "meta_model = {\n",
    "    'prject' : 'ODC Rabat Football Outcome Predictor',\n",
    "    'columns' : X.columns.to_list(),\n",
    "    'model' : clf,\n",
    "    'data' : {\n",
    "        'matches' : 'data/matches_enhanced.csv',\n",
    "        'ranking' : 'data/ranking/fifa_ranking-2021-05-27.csv'\n",
    "    }\n",
    "}"
   ]
  },
  {
   "cell_type": "code",
   "execution_count": 48,
   "metadata": {},
   "outputs": [
    {
     "data": {
      "text/plain": [
       "['model_xgb__ODC_football_outcome_predictor_20220325__meta.model']"
      ]
     },
     "execution_count": 48,
     "metadata": {},
     "output_type": "execute_result"
    }
   ],
   "source": [
    "import joblib\n",
    "import datetime\n",
    "\n",
    "meta_model = {\n",
    "    'prject' : 'ODC Rabat Football Outcome Predictor',\n",
    "    'columns' : X.columns.to_list(),\n",
    "    'model' : model,\n",
    "    'matches' : 'data/matches_enhanced.csv',\n",
    "    'ranking' : 'data/ranking/fifa_ranking-2021-05-27.csv'\n",
    "}\n",
    "\n",
    "joblib.dump(meta_model, 'model_xgb__ODC_football_outcome_predictor_20220325__meta.model')"
   ]
  },
  {
   "cell_type": "code",
   "execution_count": 163,
   "metadata": {},
   "outputs": [],
   "source": [
    "n = random.random()\n",
    "\n",
    "def define_outcome(n, probs, probs_class):\n",
    "    \n",
    "    if n < probs[0]:\n",
    "        return probs_class[0]\n",
    "    elif n < probs[0] + probs[1]:\n",
    "        return probs_class[1]\n",
    "    else:\n",
    "        return probs_class[2]"
   ]
  },
  {
   "cell_type": "code",
   "execution_count": 171,
   "metadata": {},
   "outputs": [],
   "source": [
    "import random\n",
    "\n",
    "import uuid\n",
    "all_games = {}\n",
    "\n",
    "def predict(h_country, a_country):\n",
    "    # create vector\n",
    "    cols = X.columns\n",
    "\n",
    "    df = pd.DataFrame(np.zeros((1,len(cols)), dtype=int), columns=cols)\n",
    "    \n",
    "    \n",
    "    try:\n",
    "        df.home_rank.iloc[0] = ranking[((ranking.rank_date == '2021-05-27') & (ranking.country_full == h_country))]['rank'].values[0]\n",
    "    except:\n",
    "        df.home_rank.iloc[0] = 155\n",
    "        \n",
    "    try:\n",
    "        df.away_rank.iloc[0] = ranking[((ranking.rank_date == '2021-05-27') & (ranking.country_full == a_country))]['rank'].values[0]\n",
    "    except:\n",
    "        df.away_rank.iloc[0] = 155\n",
    "        \n",
    "    df['home_team_'+h_country].iloc[0] = 1\n",
    "    df['away_team_'+a_country].iloc[0] = 1\n",
    "    #df = df[hmodel.get_booster().feature_names]\n",
    "    # predict\n",
    "    outcome_classic = model.predict(df.iloc[0].to_numpy().reshape(1,130))[0]  \n",
    "    \n",
    "    n = random.random()\n",
    "    probs = model.predict_proba(df.iloc[0].to_numpy().reshape(1,130))[0] \n",
    "    probs_class = ['draw', 'lose', 'win']\n",
    "    outcome = define_outcome(n, probs, probs_class)\n",
    "    \n",
    "    \n",
    "    \n",
    "    if outcome == 'win':\n",
    "        hscore, hval, ascore, aval = 1, 1, 0, 0\n",
    "    elif outcome == 'lose':\n",
    "        hscore, hval, ascore, aval = 0, 0, 1, 1\n",
    "    else:\n",
    "        hscore, hval, ascore, aval = 0, 0, 0, 0\n",
    "        \n",
    "    return h_country, a_country, [hscore, ascore], [hval, aval]\n",
    "\n",
    "def get_match_result(foot_model, team1, team2, elimination=False):\n",
    "    \n",
    "    h, a, score, scored = predict(team1, team2)\n",
    "    \n",
    "    all_games[uuid.uuid4()] = {'team' : team1, 'opponent' : team2, 'goals_team':score[0], 'goals_opponent':score[1]}\n",
    "    \n",
    "    if score[0] == score[1]:\n",
    "        result = 'draw'\n",
    "        looser = 'draw'\n",
    "    elif score[0] > score[1]:\n",
    "        result = team1\n",
    "        looser = team2\n",
    "    else:\n",
    "        result = team2\n",
    "        looser = team1\n",
    "        score.reverse()\n",
    "        \n",
    "    \n",
    "    if not elimination:\n",
    "        return result, looser, score\n",
    "    else:\n",
    "        if result != 'draw':\n",
    "            return result, looser, score\n",
    "        else:\n",
    "            if scored[0] >= scored[1]:\n",
    "                return team1, team2, score\n",
    "            else:\n",
    "                return team2, team1, score"
   ]
  },
  {
   "cell_type": "code",
   "execution_count": 172,
   "metadata": {},
   "outputs": [],
   "source": [
    "groupA = ['Burkina Faso', 'Cape Verde', 'Cameroon', 'Ethiopia']\n",
    "groupB = ['Guinea', 'Malawi', 'Senegal', 'Zimbabwe']\n",
    "groupC = ['Comoros', 'Gabon', 'Ghana', 'Morocco']\n",
    "groupD = ['Egypt', 'Guinea-Bissau', 'Nigeria', 'Sudan']\n",
    "groupE = ['Algeria', 'Ivory Coast', 'Equatorial Guinea', 'Sierra Leone']\n",
    "groupF = ['Gambia', 'Mali', 'Mauritania', 'Tunisia']\n",
    "groups = [groupA, groupB, groupC, groupD, groupE, groupF]\n",
    "groups_names = ['A', 'B', 'C', 'D', 'E', 'F']"
   ]
  },
  {
   "cell_type": "code",
   "execution_count": 173,
   "metadata": {},
   "outputs": [],
   "source": [
    "round_16 = pd.read_csv('data/round_16/round_16.csv', sep=';')\n",
    "round_16_possibilities = pd.read_csv('data/round_16/round_16_possibilities.csv', sep=';')"
   ]
  },
  {
   "cell_type": "code",
   "execution_count": 174,
   "metadata": {},
   "outputs": [],
   "source": [
    "def get_group_result(foot_model, group):\n",
    "    ranking = pd.DataFrame({'points':[0,0,0,0], 'diff':[0,0,0,0], 'goals':[0,0,0,0]}, index=group)\n",
    "    for team1, team2 in itertools.combinations(group, 2):\n",
    "        result, looser, score = get_match_result(foot_model, team1, team2)\n",
    "        #print(result, '-', looser,':', score)\n",
    "        if result == 'draw':\n",
    "            ranking.loc[[team1, team2], 'points'] += 1\n",
    "            ranking.loc[[team1, team2], 'goals'] += score[0]\n",
    "        else:\n",
    "            ranking.loc[result, 'points'] += 3\n",
    "            ranking.loc[result, 'goals'] += score[0]\n",
    "            ranking.loc[looser, 'goals'] += score[1]\n",
    "            ranking.loc[result, 'diff'] += score[0]-score[1]\n",
    "            ranking.loc[looser, 'diff'] -= score[0]-score[1]\n",
    "            \n",
    "    return ranking.sort_values(by=['points','diff','goals'], ascending=False)\n",
    "\n",
    "def get_team(code, gr, r16p):\n",
    "    if len(code)==2:\n",
    "        return gr.loc[code]['name']\n",
    "    else:\n",
    "        return gr.loc[r16p.iloc[0][code]]['name']\n",
    "\n",
    "def get_final_result(foot_model, groups_result, r16=round_16, r16p=round_16_possibilities):\n",
    "    round_of_16 = []\n",
    "    quarter_finals = []\n",
    "    semi_finals = []\n",
    "    \n",
    "    \n",
    "    # SIMULATE ROUND OF 16\n",
    "    for i in range(0, 8):\n",
    "        round_of_16.append(get_match_result(foot_model, \n",
    "                                            get_team(r16.iloc[i]['home_team'], groups_result, r16p), \n",
    "                                            get_team(r16.iloc[i]['away_team'], groups_result, r16p), \n",
    "                                            elimination=True))\n",
    "    \n",
    "    \n",
    "    # SIMULATE QUATER FINALS\n",
    "    quarter_finals.append(get_match_result(foot_model, round_of_16[0][0], round_of_16[2][0], elimination=True))\n",
    "    quarter_finals.append(get_match_result(foot_model, round_of_16[1][0], round_of_16[3][0], elimination=True))\n",
    "    quarter_finals.append(get_match_result(foot_model, round_of_16[4][0], round_of_16[6][0], elimination=True))\n",
    "    quarter_finals.append(get_match_result(foot_model, round_of_16[5][0], round_of_16[7][0], elimination=True))\n",
    "    \n",
    "    # SIMULATE SEMI FINALS\n",
    "    semi_finals.append(get_match_result(foot_model, quarter_finals[0][0], quarter_finals[2][0], elimination=True))\n",
    "    semi_finals.append(get_match_result(foot_model, quarter_finals[1][0], quarter_finals[3][0], elimination=True))\n",
    "    \n",
    "    # SIMULATE 3RD PLACE MATCH\n",
    "    little_final = get_match_result(foot_model, semi_finals[0][1], semi_finals[1][1], elimination=True)\n",
    "    \n",
    "    # SIMULATE FINAL\n",
    "    final = get_match_result(foot_model, semi_finals[0][0], semi_finals[1][0], elimination=True)\n",
    "    \n",
    "    return round_of_16, quarter_finals, semi_finals, little_final, final"
   ]
  },
  {
   "cell_type": "code",
   "execution_count": 175,
   "metadata": {},
   "outputs": [],
   "source": [
    "#Needed for our african CUP\n",
    "groupe_stage = {}\n",
    "for i in range(0, 6):\n",
    "    r = get_group_result(None, groups[i])\n",
    "    for k in range(1, 5):\n",
    "        groupe_stage[groups_names[i]+str(k)] = {'group' : groups_names[i],\n",
    "                                                'name' : r.index[k-1], \n",
    "                                                'points' : r.iloc[k-1]['points'], \n",
    "                                                'goals_difference' : r.iloc[k-1]['goals'], \n",
    "                                                'goals_scored' : r.iloc[k-1]['goals'], \n",
    "                                                'rank' : k}\n",
    "\n",
    "combination = ''.join(list(pd.DataFrame.from_dict(groupe_stage, orient='index').query('rank==3')\\\n",
    "                           .sort_values(by=['points', 'goals_difference', 'goals_scored'], ascending=False).group[0:4].sort_values()))\n",
    "\n",
    "groups_ranking = pd.DataFrame.from_dict(groupe_stage, orient='index')"
   ]
  },
  {
   "cell_type": "code",
   "execution_count": 176,
   "metadata": {},
   "outputs": [],
   "source": [
    "round_of_16, quarter_finals, semi_finals, little_final, final = get_final_result(None, \n",
    "                                                                                 groups_ranking, \n",
    "                                                                                 round_16, \n",
    "                                                                                 round_16_possibilities.query('combination==\"{0}\"'.format(combination)))"
   ]
  },
  {
   "cell_type": "code",
   "execution_count": 193,
   "metadata": {},
   "outputs": [],
   "source": [
    "MAX_EXP = 77"
   ]
  },
  {
   "cell_type": "code",
   "execution_count": 194,
   "metadata": {},
   "outputs": [
    {
     "name": "stderr",
     "output_type": "stream",
     "text": [
      "C:\\Users\\DevPC\\AppData\\Roaming\\Python\\Python37\\site-packages\\pandas\\core\\indexing.py:1732: SettingWithCopyWarning: \n",
      "A value is trying to be set on a copy of a slice from a DataFrame\n",
      "\n",
      "See the caveats in the documentation: https://pandas.pydata.org/pandas-docs/stable/user_guide/indexing.html#returning-a-view-versus-a-copy\n",
      "  self._setitem_single_block(indexer, value, name)\n",
      "C:\\Users\\DevPC\\AppData\\Roaming\\Python\\Python37\\site-packages\\numpy\\core\\fromnumeric.py:43: VisibleDeprecationWarning: Creating an ndarray from ragged nested sequences (which is a list-or-tuple of lists-or-tuples-or ndarrays with different lengths or shapes) is deprecated. If you meant to do this, you must specify 'dtype=object' when creating the ndarray.\n",
      "  result = getattr(asarray(obj), method)(*args, **kwds)\n"
     ]
    }
   ],
   "source": [
    "groups_rankings, round_of_16s, quarter_finalss, semi_finalss, little_finals, finals = [], [], [], [], [], []\n",
    "\n",
    "for exp in range(0, MAX_EXP):\n",
    "    groupe_stage = {}\n",
    "    for i in range(0, 6):\n",
    "        r = get_group_result(model, groups[i])\n",
    "        for k in range(1, 5):\n",
    "            groupe_stage[groups_names[i]+str(k)] = {'group' : groups_names[i],\n",
    "                                                    'name' : r.index[k-1], \n",
    "                                                    'points' : r.iloc[k-1]['points'], \n",
    "                                                    'goals_difference' : r.iloc[k-1]['goals'], \n",
    "                                                    'goals_scored' : r.iloc[k-1]['goals'], \n",
    "                                                    'rank' : k}\n",
    "\n",
    "    combination = ''.join(list(pd.DataFrame.from_dict(groupe_stage, orient='index').query('rank==3')\\\n",
    "                               .sort_values(by=['points', 'goals_difference', 'goals_scored'], ascending=False).group[0:4].sort_values()))\n",
    "\n",
    "    groups_ranking = pd.DataFrame.from_dict(groupe_stage, orient='index')\n",
    "    groups_ranking['try'] = 'try_' + str(exp)\n",
    "    groups_rankings.append(groups_ranking)\n",
    "    \n",
    "    round_of_16, quarter_finals, semi_finals, little_final, final = get_final_result(model, \n",
    "                                                                                 groups_ranking, \n",
    "                                                                                 round_16, \n",
    "                                                                                 round_16_possibilities.query('combination==\"{0}\"'.format(combination)))\n",
    "    \n",
    "    d16 = pd.DataFrame(round_of_16, columns=['winner', 'loser', 'score'])\n",
    "    d16['step'] = 'round_of_16'\n",
    "    d16['step_'] = 16\n",
    "    d16['try'] = 'try_' + str(exp)\n",
    "    round_of_16s.append(d16)\n",
    "    \n",
    "    d8 = pd.DataFrame(quarter_finals, columns=['winner', 'loser', 'score'])\n",
    "    d8['step'] = 'quarter_finals'\n",
    "    d8['step_'] = 8\n",
    "    d8['try'] = 'try_' + str(exp)\n",
    "    quarter_finalss.append(d8)\n",
    "    \n",
    "    d4 = pd.DataFrame(semi_finals, columns=['winner', 'loser', 'score'])\n",
    "    d4['step'] = 'semi_finals'\n",
    "    d4['step_'] = 4\n",
    "    d4['try'] = 'try_' + str(exp)\n",
    "    semi_finalss.append(d4)\n",
    "\n",
    "    d2 = pd.DataFrame(np.reshape(little_final, (1, 3)), columns=['winner', 'loser', 'score'])\n",
    "    d2['step'] = 'little_final'\n",
    "    d2['step_'] = 2\n",
    "    d2['try'] = 'try_' + str(exp)\n",
    "    little_finals.append(d2)\n",
    "    \n",
    "    d1 = pd.DataFrame(np.reshape(final, (1, 3)), columns=['winner', 'loser', 'score'])\n",
    "    d1['step'] = 'final'\n",
    "    d1['step_'] = 1\n",
    "    d1['try'] = 'try_' + str(exp)\n",
    "    finals.append(d1)"
   ]
  },
  {
   "cell_type": "code",
   "execution_count": 195,
   "metadata": {},
   "outputs": [],
   "source": [
    "df = pd.concat(round_of_16s + quarter_finalss + semi_finalss + little_finals + finals)"
   ]
  },
  {
   "cell_type": "code",
   "execution_count": 196,
   "metadata": {},
   "outputs": [],
   "source": [
    "winners = df.groupby(['step', 'step_', 'winner']).agg({'try':'count'}).reset_index().sort_values(by='step')\n",
    "winners['status'] = 'win'\n",
    "winners.columns = ['step', 'step_', 'country', 'try', 'status']"
   ]
  },
  {
   "cell_type": "code",
   "execution_count": 197,
   "metadata": {},
   "outputs": [],
   "source": [
    "loosers = df.groupby(['step', 'step_', 'loser']).agg({'try':'count'}).reset_index().sort_values(by='step')\n",
    "loosers['status'] = 'lose'\n",
    "loosers.columns = ['step', 'step_', 'country', 'try', 'status']"
   ]
  },
  {
   "cell_type": "code",
   "execution_count": 198,
   "metadata": {},
   "outputs": [],
   "source": [
    "tries = pd.concat([winners, loosers])"
   ]
  },
  {
   "cell_type": "code",
   "execution_count": 199,
   "metadata": {},
   "outputs": [
    {
     "name": "stderr",
     "output_type": "stream",
     "text": [
      "C:\\Users\\DevPC\\AppData\\Roaming\\Python\\Python37\\site-packages\\pandas\\core\\frame.py:9203: FutureWarning: Passing 'suffixes' which cause duplicate columns {'try_y'} in the result is deprecated and will raise a MergeError in a future version.\n",
      "  validate=validate,\n"
     ]
    }
   ],
   "source": [
    "previous = None\n",
    "for step in ['round_of_16', 'quarter_finals', 'semi_finals', 'little_final', 'final', 'win']:\n",
    "    if step != 'win':\n",
    "        kfka = tries.query('step==\"{0}\"'.format(step)).groupby('country').agg({'try':'sum'}).reset_index()\n",
    "        kfka['probability_{0}'.format(step)] = kfka['try']/MAX_EXP\n",
    "\n",
    "        if step == 'round_of_16':\n",
    "            previous = kfka\n",
    "        else:\n",
    "            previous = kfka.merge(previous, how='outer', left_on='country', right_on='country')\n",
    "    else:\n",
    "        kfka = tries.query('step==\"final\" and status==\"win\"').groupby('country').agg({'try':'sum'}).reset_index()\n",
    "        kfka['probability_{0}'.format(step)] = kfka['try']/MAX_EXP\n",
    "        \n",
    "        previous = kfka.merge(previous, how='outer', left_on='country', right_on='country')"
   ]
  },
  {
   "cell_type": "code",
   "execution_count": 200,
   "metadata": {},
   "outputs": [
    {
     "data": {
      "text/html": [
       "<div>\n",
       "<style scoped>\n",
       "    .dataframe tbody tr th:only-of-type {\n",
       "        vertical-align: middle;\n",
       "    }\n",
       "\n",
       "    .dataframe tbody tr th {\n",
       "        vertical-align: top;\n",
       "    }\n",
       "\n",
       "    .dataframe thead th {\n",
       "        text-align: right;\n",
       "    }\n",
       "</style>\n",
       "<table border=\"1\" class=\"dataframe\">\n",
       "  <thead>\n",
       "    <tr style=\"text-align: right;\">\n",
       "      <th></th>\n",
       "      <th>country</th>\n",
       "      <th>probability_round_of_16</th>\n",
       "      <th>probability_quarter_finals</th>\n",
       "      <th>probability_semi_finals</th>\n",
       "      <th>probability_little_final</th>\n",
       "      <th>probability_final</th>\n",
       "      <th>probability_win</th>\n",
       "    </tr>\n",
       "  </thead>\n",
       "  <tbody>\n",
       "    <tr>\n",
       "      <th>9</th>\n",
       "      <td>Nigeria</td>\n",
       "      <td>0.948052</td>\n",
       "      <td>0.701299</td>\n",
       "      <td>0.558442</td>\n",
       "      <td>0.220779</td>\n",
       "      <td>0.337662</td>\n",
       "      <td>0.220779</td>\n",
       "    </tr>\n",
       "    <tr>\n",
       "      <th>10</th>\n",
       "      <td>Senegal</td>\n",
       "      <td>0.974026</td>\n",
       "      <td>0.753247</td>\n",
       "      <td>0.428571</td>\n",
       "      <td>0.155844</td>\n",
       "      <td>0.272727</td>\n",
       "      <td>0.155844</td>\n",
       "    </tr>\n",
       "    <tr>\n",
       "      <th>3</th>\n",
       "      <td>Egypt</td>\n",
       "      <td>0.870130</td>\n",
       "      <td>0.519481</td>\n",
       "      <td>0.363636</td>\n",
       "      <td>0.116883</td>\n",
       "      <td>0.246753</td>\n",
       "      <td>0.116883</td>\n",
       "    </tr>\n",
       "    <tr>\n",
       "      <th>8</th>\n",
       "      <td>Morocco</td>\n",
       "      <td>0.935065</td>\n",
       "      <td>0.701299</td>\n",
       "      <td>0.350649</td>\n",
       "      <td>0.129870</td>\n",
       "      <td>0.220779</td>\n",
       "      <td>0.116883</td>\n",
       "    </tr>\n",
       "    <tr>\n",
       "      <th>7</th>\n",
       "      <td>Ivory Coast</td>\n",
       "      <td>0.883117</td>\n",
       "      <td>0.493506</td>\n",
       "      <td>0.246753</td>\n",
       "      <td>0.103896</td>\n",
       "      <td>0.142857</td>\n",
       "      <td>0.103896</td>\n",
       "    </tr>\n",
       "    <tr>\n",
       "      <th>2</th>\n",
       "      <td>Cameroon</td>\n",
       "      <td>0.896104</td>\n",
       "      <td>0.584416</td>\n",
       "      <td>0.311688</td>\n",
       "      <td>0.090909</td>\n",
       "      <td>0.220779</td>\n",
       "      <td>0.077922</td>\n",
       "    </tr>\n",
       "    <tr>\n",
       "      <th>0</th>\n",
       "      <td>Algeria</td>\n",
       "      <td>0.870130</td>\n",
       "      <td>0.519481</td>\n",
       "      <td>0.259740</td>\n",
       "      <td>0.129870</td>\n",
       "      <td>0.129870</td>\n",
       "      <td>0.077922</td>\n",
       "    </tr>\n",
       "    <tr>\n",
       "      <th>5</th>\n",
       "      <td>Ghana</td>\n",
       "      <td>0.740260</td>\n",
       "      <td>0.337662</td>\n",
       "      <td>0.142857</td>\n",
       "      <td>0.064935</td>\n",
       "      <td>0.077922</td>\n",
       "      <td>0.038961</td>\n",
       "    </tr>\n",
       "    <tr>\n",
       "      <th>6</th>\n",
       "      <td>Guinea</td>\n",
       "      <td>0.662338</td>\n",
       "      <td>0.363636</td>\n",
       "      <td>0.194805</td>\n",
       "      <td>0.155844</td>\n",
       "      <td>0.038961</td>\n",
       "      <td>0.025974</td>\n",
       "    </tr>\n",
       "    <tr>\n",
       "      <th>12</th>\n",
       "      <td>Tunisia</td>\n",
       "      <td>0.779221</td>\n",
       "      <td>0.415584</td>\n",
       "      <td>0.194805</td>\n",
       "      <td>0.090909</td>\n",
       "      <td>0.103896</td>\n",
       "      <td>0.012987</td>\n",
       "    </tr>\n",
       "    <tr>\n",
       "      <th>1</th>\n",
       "      <td>Burkina Faso</td>\n",
       "      <td>0.701299</td>\n",
       "      <td>0.350649</td>\n",
       "      <td>0.142857</td>\n",
       "      <td>0.090909</td>\n",
       "      <td>0.051948</td>\n",
       "      <td>0.012987</td>\n",
       "    </tr>\n",
       "    <tr>\n",
       "      <th>13</th>\n",
       "      <td>Zimbabwe</td>\n",
       "      <td>0.480519</td>\n",
       "      <td>0.155844</td>\n",
       "      <td>0.064935</td>\n",
       "      <td>0.038961</td>\n",
       "      <td>0.025974</td>\n",
       "      <td>0.012987</td>\n",
       "    </tr>\n",
       "    <tr>\n",
       "      <th>4</th>\n",
       "      <td>Gambia</td>\n",
       "      <td>0.480519</td>\n",
       "      <td>0.220779</td>\n",
       "      <td>0.051948</td>\n",
       "      <td>0.038961</td>\n",
       "      <td>0.012987</td>\n",
       "      <td>0.012987</td>\n",
       "    </tr>\n",
       "    <tr>\n",
       "      <th>11</th>\n",
       "      <td>Sierra Leone</td>\n",
       "      <td>0.610390</td>\n",
       "      <td>0.038961</td>\n",
       "      <td>0.012987</td>\n",
       "      <td>0.000000</td>\n",
       "      <td>0.012987</td>\n",
       "      <td>0.012987</td>\n",
       "    </tr>\n",
       "    <tr>\n",
       "      <th>14</th>\n",
       "      <td>Cape Verde</td>\n",
       "      <td>0.649351</td>\n",
       "      <td>0.376623</td>\n",
       "      <td>0.142857</td>\n",
       "      <td>0.103896</td>\n",
       "      <td>0.038961</td>\n",
       "      <td>0.000000</td>\n",
       "    </tr>\n",
       "    <tr>\n",
       "      <th>17</th>\n",
       "      <td>Malawi</td>\n",
       "      <td>0.597403</td>\n",
       "      <td>0.324675</td>\n",
       "      <td>0.103896</td>\n",
       "      <td>0.064935</td>\n",
       "      <td>0.038961</td>\n",
       "      <td>0.000000</td>\n",
       "    </tr>\n",
       "    <tr>\n",
       "      <th>16</th>\n",
       "      <td>Gabon</td>\n",
       "      <td>0.558442</td>\n",
       "      <td>0.168831</td>\n",
       "      <td>0.103896</td>\n",
       "      <td>0.090909</td>\n",
       "      <td>0.012987</td>\n",
       "      <td>0.000000</td>\n",
       "    </tr>\n",
       "    <tr>\n",
       "      <th>15</th>\n",
       "      <td>Equatorial Guinea</td>\n",
       "      <td>0.272727</td>\n",
       "      <td>0.090909</td>\n",
       "      <td>0.038961</td>\n",
       "      <td>0.025974</td>\n",
       "      <td>0.012987</td>\n",
       "      <td>0.000000</td>\n",
       "    </tr>\n",
       "    <tr>\n",
       "      <th>19</th>\n",
       "      <td>Ethiopia</td>\n",
       "      <td>0.467532</td>\n",
       "      <td>0.207792</td>\n",
       "      <td>0.090909</td>\n",
       "      <td>0.090909</td>\n",
       "      <td>0.000000</td>\n",
       "      <td>0.000000</td>\n",
       "    </tr>\n",
       "    <tr>\n",
       "      <th>21</th>\n",
       "      <td>Mali</td>\n",
       "      <td>0.818182</td>\n",
       "      <td>0.311688</td>\n",
       "      <td>0.064935</td>\n",
       "      <td>0.064935</td>\n",
       "      <td>0.000000</td>\n",
       "      <td>0.000000</td>\n",
       "    </tr>\n",
       "    <tr>\n",
       "      <th>18</th>\n",
       "      <td>Comoros</td>\n",
       "      <td>0.402597</td>\n",
       "      <td>0.116883</td>\n",
       "      <td>0.051948</td>\n",
       "      <td>0.051948</td>\n",
       "      <td>0.000000</td>\n",
       "      <td>0.000000</td>\n",
       "    </tr>\n",
       "    <tr>\n",
       "      <th>22</th>\n",
       "      <td>Mauritania</td>\n",
       "      <td>0.532468</td>\n",
       "      <td>0.090909</td>\n",
       "      <td>0.038961</td>\n",
       "      <td>0.038961</td>\n",
       "      <td>0.000000</td>\n",
       "      <td>0.000000</td>\n",
       "    </tr>\n",
       "    <tr>\n",
       "      <th>20</th>\n",
       "      <td>Guinea-Bissau</td>\n",
       "      <td>0.402597</td>\n",
       "      <td>0.064935</td>\n",
       "      <td>0.025974</td>\n",
       "      <td>0.025974</td>\n",
       "      <td>0.000000</td>\n",
       "      <td>0.000000</td>\n",
       "    </tr>\n",
       "    <tr>\n",
       "      <th>23</th>\n",
       "      <td>Sudan</td>\n",
       "      <td>0.467532</td>\n",
       "      <td>0.090909</td>\n",
       "      <td>0.012987</td>\n",
       "      <td>0.012987</td>\n",
       "      <td>0.000000</td>\n",
       "      <td>0.000000</td>\n",
       "    </tr>\n",
       "  </tbody>\n",
       "</table>\n",
       "</div>"
      ],
      "text/plain": [
       "              country  probability_round_of_16  probability_quarter_finals  \\\n",
       "9             Nigeria                 0.948052                    0.701299   \n",
       "10            Senegal                 0.974026                    0.753247   \n",
       "3               Egypt                 0.870130                    0.519481   \n",
       "8             Morocco                 0.935065                    0.701299   \n",
       "7         Ivory Coast                 0.883117                    0.493506   \n",
       "2            Cameroon                 0.896104                    0.584416   \n",
       "0             Algeria                 0.870130                    0.519481   \n",
       "5               Ghana                 0.740260                    0.337662   \n",
       "6              Guinea                 0.662338                    0.363636   \n",
       "12            Tunisia                 0.779221                    0.415584   \n",
       "1        Burkina Faso                 0.701299                    0.350649   \n",
       "13           Zimbabwe                 0.480519                    0.155844   \n",
       "4              Gambia                 0.480519                    0.220779   \n",
       "11       Sierra Leone                 0.610390                    0.038961   \n",
       "14         Cape Verde                 0.649351                    0.376623   \n",
       "17             Malawi                 0.597403                    0.324675   \n",
       "16              Gabon                 0.558442                    0.168831   \n",
       "15  Equatorial Guinea                 0.272727                    0.090909   \n",
       "19           Ethiopia                 0.467532                    0.207792   \n",
       "21               Mali                 0.818182                    0.311688   \n",
       "18            Comoros                 0.402597                    0.116883   \n",
       "22         Mauritania                 0.532468                    0.090909   \n",
       "20      Guinea-Bissau                 0.402597                    0.064935   \n",
       "23              Sudan                 0.467532                    0.090909   \n",
       "\n",
       "    probability_semi_finals  probability_little_final  probability_final  \\\n",
       "9                  0.558442                  0.220779           0.337662   \n",
       "10                 0.428571                  0.155844           0.272727   \n",
       "3                  0.363636                  0.116883           0.246753   \n",
       "8                  0.350649                  0.129870           0.220779   \n",
       "7                  0.246753                  0.103896           0.142857   \n",
       "2                  0.311688                  0.090909           0.220779   \n",
       "0                  0.259740                  0.129870           0.129870   \n",
       "5                  0.142857                  0.064935           0.077922   \n",
       "6                  0.194805                  0.155844           0.038961   \n",
       "12                 0.194805                  0.090909           0.103896   \n",
       "1                  0.142857                  0.090909           0.051948   \n",
       "13                 0.064935                  0.038961           0.025974   \n",
       "4                  0.051948                  0.038961           0.012987   \n",
       "11                 0.012987                  0.000000           0.012987   \n",
       "14                 0.142857                  0.103896           0.038961   \n",
       "17                 0.103896                  0.064935           0.038961   \n",
       "16                 0.103896                  0.090909           0.012987   \n",
       "15                 0.038961                  0.025974           0.012987   \n",
       "19                 0.090909                  0.090909           0.000000   \n",
       "21                 0.064935                  0.064935           0.000000   \n",
       "18                 0.051948                  0.051948           0.000000   \n",
       "22                 0.038961                  0.038961           0.000000   \n",
       "20                 0.025974                  0.025974           0.000000   \n",
       "23                 0.012987                  0.012987           0.000000   \n",
       "\n",
       "    probability_win  \n",
       "9          0.220779  \n",
       "10         0.155844  \n",
       "3          0.116883  \n",
       "8          0.116883  \n",
       "7          0.103896  \n",
       "2          0.077922  \n",
       "0          0.077922  \n",
       "5          0.038961  \n",
       "6          0.025974  \n",
       "12         0.012987  \n",
       "1          0.012987  \n",
       "13         0.012987  \n",
       "4          0.012987  \n",
       "11         0.012987  \n",
       "14         0.000000  \n",
       "17         0.000000  \n",
       "16         0.000000  \n",
       "15         0.000000  \n",
       "19         0.000000  \n",
       "21         0.000000  \n",
       "18         0.000000  \n",
       "22         0.000000  \n",
       "20         0.000000  \n",
       "23         0.000000  "
      ]
     },
     "execution_count": 200,
     "metadata": {},
     "output_type": "execute_result"
    }
   ],
   "source": [
    "previous.fillna(0)[['country'] + ['probability_'+col for col in ['round_of_16', 'quarter_finals', 'semi_finals', 'little_final', 'final', 'win']]]\\\n",
    ".sort_values(by=['probability_'+col for col in ['win', 'final', 'little_final', 'semi_finals', 'quarter_finals', 'round_of_16']], ascending=False)"
   ]
  },
  {
   "cell_type": "code",
   "execution_count": 202,
   "metadata": {},
   "outputs": [],
   "source": [
    "dtfa = previous.fillna(0)[['country'] + ['probability_'+col for col in ['round_of_16', 'quarter_finals', 'semi_finals', 'little_final', 'final', 'win']]]\\\n",
    ".sort_values(by=['probability_'+col for col in ['win', 'final', 'little_final', 'semi_finals', 'quarter_finals', 'round_of_16']], ascending=False)"
   ]
  },
  {
   "cell_type": "code",
   "execution_count": null,
   "metadata": {},
   "outputs": [],
   "source": []
  }
 ],
 "metadata": {
  "kernelspec": {
   "display_name": "Python 3",
   "language": "python",
   "name": "python3"
  },
  "language_info": {
   "codemirror_mode": {
    "name": "ipython",
    "version": 3
   },
   "file_extension": ".py",
   "mimetype": "text/x-python",
   "name": "python",
   "nbconvert_exporter": "python",
   "pygments_lexer": "ipython3",
   "version": "3.8.3"
  }
 },
 "nbformat": 4,
 "nbformat_minor": 4
}
